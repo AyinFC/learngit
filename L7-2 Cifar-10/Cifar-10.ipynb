{
 "cells": [
  {
   "cell_type": "code",
   "execution_count": 12,
   "metadata": {
    "ExecuteTime": {
     "end_time": "2020-10-18T06:22:43.465337Z",
     "start_time": "2020-10-18T06:22:43.458653Z"
    }
   },
   "outputs": [],
   "source": [
    "import torch\n",
    "from torch import nn, optim\n",
    "import torchvision\n",
    "import torch.nn.functional as F\n",
    "\n",
    "import torchvision.datasets as datasets\n",
    "import torchvision.transforms as transforms\n",
    "from torch.utils.data import DataLoader\n",
    "import matplotlib.pyplot as plt\n",
    "%matplotlib inline"
   ]
  },
  {
   "cell_type": "code",
   "execution_count": 32,
   "metadata": {
    "ExecuteTime": {
     "end_time": "2020-10-18T07:22:18.218225Z",
     "start_time": "2020-10-18T07:22:18.208593Z"
    }
   },
   "outputs": [],
   "source": [
    "class AlexNet(nn.Module):\n",
    "    def __init__(self):\n",
    "        super(AlexNet, self).__init__()\n",
    "        self.conv = nn.Sequential(\n",
    "            # 32*32*32\n",
    "            nn.Conv2d(3, 32, 3, 1), # in_channels, out_channels, kernel_size, stride, padding\n",
    "            nn.MaxPool2d(2, 2), # kernel_size, stride\n",
    "            nn.ReLU(),            \n",
    "            # 减小卷积窗口，使用填充为2来使得输入与输出的高和宽一致，且增加输出通道数\n",
    "            # 64*14*14\n",
    "            nn.Conv2d(32, 64, 3, 1, 1),\n",
    "            nn.MaxPool2d(2, 2),\n",
    "            nn.ReLU(),\n",
    "        # 连续3个卷积层，且使用更小的卷积窗口。除了最后的卷积层外，进一步 增加了输出通道数。\n",
    "        # 前两个卷积层后不使用池化层来减小输入的⾼和宽 \n",
    "            # 128*7*7\n",
    "            nn.Conv2d(64, 128, 3, 1, 1), \n",
    "            # 256*7*7\n",
    "            nn.Conv2d(128, 256, 3, 1, 1), \n",
    "            # 256*7*7\n",
    "            nn.Conv2d(256, 256, 3, 1, 1), \n",
    "            # 256*3*3\n",
    "            nn.MaxPool2d(2, 2),\n",
    "            nn.ReLU()\n",
    "        )\n",
    "        # 这里全连接层的输出个数 ALexNet中的数倍。使用dropout来缓解过拟合。\n",
    "        self.fc = nn.Sequential(\n",
    "        # 输出层，10分类\n",
    "            nn.Linear(256*3*3, 1024),\n",
    "            nn.Linear(1024, 512),\n",
    "            nn.Linear(512, 10),\n",
    "        )\n",
    "    def forward(self, img):\n",
    "        feature = self.conv(img)\n",
    "        output = self.fc(feature.view(img.shape[0], -1))\n",
    "        return output\n",
    "\n",
    "\n",
    "\n",
    "\n",
    "\n"
   ]
  },
  {
   "cell_type": "code",
   "execution_count": 41,
   "metadata": {
    "ExecuteTime": {
     "end_time": "2020-10-18T07:32:15.972012Z",
     "start_time": "2020-10-18T07:32:15.968259Z"
    }
   },
   "outputs": [],
   "source": [
    "# 超参数定义\n",
    "EPOCH = 15               # 训练epoch次数\n",
    "BATCH_SIZE = 64         # 批训练的数量\n",
    "LR = 0.001              # 学习率\n",
    "DOWNLOAD_CIFAR = True  # 设置True 可以自动下载数据\n",
    "\n",
    "\n"
   ]
  },
  {
   "cell_type": "code",
   "execution_count": 21,
   "metadata": {
    "ExecuteTime": {
     "end_time": "2020-10-18T07:06:00.448280Z",
     "start_time": "2020-10-18T07:05:58.927194Z"
    },
    "code_folding": []
   },
   "outputs": [
    {
     "name": "stdout",
     "output_type": "stream",
     "text": [
      "Files already downloaded and verified\n"
     ]
    }
   ],
   "source": [
    "# Cifar-10 数据集调用\n",
    "classes = ('plane', 'car', 'bird', 'cat',\n",
    "           'deer', 'dog', 'frog', 'horse', 'ship', 'truck')\n",
    "\n",
    "train_data = torchvision.datasets.CIFAR10(\n",
    "    root='./Cifar-10',  # 保存或者提取位置\n",
    "    train=True,  # this is training data\n",
    "    transform=torchvision.transforms.ToTensor(),  # 转换 PIL.Image or numpy.ndarray 成\n",
    "    # torch.FloatTensor (C x H x W), 训练的时候 normalize 成 [0.0, 1.0] 区间\n",
    "    download=DOWNLOAD_CIFAR,  # 没下载就下载, 下载了就不用再下了\n",
    ")\n",
    "\n",
    "test_data = torchvision.datasets.CIFAR10(root='./Cifar-10',\n",
    "                        train=False,                         # 测试集\n",
    "                        transform=transforms.ToTensor()\n",
    "                        )\n",
    "\n"
   ]
  },
  {
   "cell_type": "code",
   "execution_count": 50,
   "metadata": {
    "ExecuteTime": {
     "end_time": "2020-10-18T07:44:51.413925Z",
     "start_time": "2020-10-18T07:44:50.254472Z"
    }
   },
   "outputs": [
    {
     "data": {
      "image/png": "[encoded data removed]",
      "text/plain": [
       "<Figure size 432x288 with 1 Axes>"
      ]
     },
     "metadata": {
      "needs_background": "light"
     },
     "output_type": "display_data"
    }
   ],
   "source": [
    "plt.show()\n",
    "for images, labels in train_data:\n",
    "    images = images.numpy().transpose(1, 2, 0)  # 把channel那一维放到最后\n",
    "    plt.title(str(classes[labels]))\n",
    "    plt.imshow(images)\n",
    "    plt.pause(1)\n",
    "    break\n"
   ]
  },
  {
   "cell_type": "code",
   "execution_count": 48,
   "metadata": {
    "ExecuteTime": {
     "end_time": "2020-10-18T07:34:35.430172Z",
     "start_time": "2020-10-18T07:34:35.425881Z"
    }
   },
   "outputs": [
    {
     "name": "stdout",
     "output_type": "stream",
     "text": [
      "训练集大小： Dataset CIFAR10\n",
      "    Number of datapoints: 50000\n",
      "    Root location: ./Cifar-10\n",
      "    Split: Train\n",
      "    StandardTransform\n",
      "Transform: ToTensor()\n"
     ]
    }
   ],
   "source": [
    "# plot其中一张手写数字图片\n",
    "print('训练集大小：', train_data)     # 查看训练集数据大小，60000张32*32的图片 (60000, 32, 32)\n",
    "# print('训练集标签个数：', train_data.train_labels.size())   # 查看训练集标签大小，60000个标签 (60000)\n",
    "# plt.imshow(train_data[0], cmap='gray') # plot 训练集第一张图片\n",
    "# plt.title('%i' % train_data.train_labels[0])              # 图片名称，显示真实标签，%i %d十进制整数，有区别，深入请查阅资料\n",
    "plt.show()                                                # show\n"
   ]
  },
  {
   "cell_type": "code",
   "execution_count": 42,
   "metadata": {
    "ExecuteTime": {
     "end_time": "2020-10-18T07:32:19.267290Z",
     "start_time": "2020-10-18T07:32:19.232554Z"
    }
   },
   "outputs": [
    {
     "data": {
      "text/plain": [
       "AlexNet(\n",
       "  (conv): Sequential(\n",
       "    (0): Conv2d(3, 32, kernel_size=(3, 3), stride=(1, 1))\n",
       "    (1): MaxPool2d(kernel_size=2, stride=2, padding=0, dilation=1, ceil_mode=False)\n",
       "    (2): ReLU()\n",
       "    (3): Conv2d(32, 64, kernel_size=(3, 3), stride=(1, 1), padding=(1, 1))\n",
       "    (4): MaxPool2d(kernel_size=2, stride=2, padding=0, dilation=1, ceil_mode=False)\n",
       "    (5): ReLU()\n",
       "    (6): Conv2d(64, 128, kernel_size=(3, 3), stride=(1, 1), padding=(1, 1))\n",
       "    (7): Conv2d(128, 256, kernel_size=(3, 3), stride=(1, 1), padding=(1, 1))\n",
       "    (8): Conv2d(256, 256, kernel_size=(3, 3), stride=(1, 1), padding=(1, 1))\n",
       "    (9): MaxPool2d(kernel_size=2, stride=2, padding=0, dilation=1, ceil_mode=False)\n",
       "    (10): ReLU()\n",
       "  )\n",
       "  (fc): Sequential(\n",
       "    (0): Linear(in_features=2304, out_features=1024, bias=True)\n",
       "    (1): Linear(in_features=1024, out_features=512, bias=True)\n",
       "    (2): Linear(in_features=512, out_features=10, bias=True)\n",
       "  )\n",
       ")"
      ]
     },
     "execution_count": 42,
     "metadata": {},
     "output_type": "execute_result"
    }
   ],
   "source": [
    "# 使用DataLoader进行分批\n",
    "train_loader = DataLoader(dataset=train_data, batch_size=BATCH_SIZE, shuffle=True)\n",
    "test_loader = DataLoader(dataset=test_data, batch_size=BATCH_SIZE, shuffle=True)\n",
    "\n",
    "# AlexNet Model\n",
    "model = AlexNet()\n",
    "#损失函数:这里用交叉熵\n",
    "criterion = nn.CrossEntropyLoss()\n",
    "#优化器 这里用SGD\n",
    "# optimizer = optim.Adam(model.parameters(), lr=1e-3)\n",
    "\n",
    "#优化方式为mini-batch momentum-SGD，并采用L2正则化（权重衰减）\n",
    "optimizer = optim.SGD(model.parameters(), lr=LR, momentum=0.9, weight_decay=1e-3) \n",
    "\n",
    "\n",
    "# device : GPU or CPU\n",
    "device = torch.device(\"cuda:0\" if torch.cuda.is_available() else \"cpu\")\n",
    "model.to(device)"
   ]
  },
  {
   "cell_type": "code",
   "execution_count": 49,
   "metadata": {
    "ExecuteTime": {
     "end_time": "2020-10-18T07:44:50.252409Z",
     "start_time": "2020-10-18T07:34:48.896827Z"
    }
   },
   "outputs": [
    {
     "name": "stdout",
     "output_type": "stream",
     "text": [
      "epoch1 loss:2.1631\n",
      "epoch2 loss:1.7325\n",
      "epoch3 loss:1.8003\n",
      "epoch4 loss:2.0901\n",
      "epoch5 loss:1.5666\n",
      "epoch6 loss:1.7478\n",
      "epoch7 loss:1.5580\n",
      "epoch8 loss:1.4064\n",
      "epoch9 loss:1.2081\n",
      "epoch10 loss:1.2806\n",
      "epoch11 loss:0.9066\n",
      "epoch12 loss:1.1185\n",
      "epoch13 loss:1.6866\n",
      "epoch14 loss:1.1166\n",
      "epoch15 loss:1.0673\n",
      "Finished Traning\n"
     ]
    }
   ],
   "source": [
    "# 训练\n",
    "for epoch in range(EPOCH):\n",
    "    for i, data in enumerate(train_loader):\n",
    "        inputs, labels = data\n",
    "        inputs, labels = inputs.to(device), labels.to(device)\n",
    "        # 前向传播\n",
    "        outputs = model(inputs)\n",
    "        # 计算损失函数\n",
    "        loss = criterion(outputs, labels)\n",
    "        # 清空上一轮梯度\n",
    "        optimizer.zero_grad()\n",
    "        # 反向传播\n",
    "        loss.backward()\n",
    "        # 参数更新\n",
    "        optimizer.step()\n",
    "\n",
    "    print('epoch{} loss:{:.4f}'.format(epoch+1, loss.item()))\n",
    "\n",
    "print(\"Finished Traning\")\n",
    "\n",
    "\n"
   ]
  },
  {
   "cell_type": "code",
   "execution_count": 55,
   "metadata": {
    "ExecuteTime": {
     "end_time": "2020-10-18T07:45:32.240209Z",
     "start_time": "2020-10-18T07:45:32.192611Z"
    }
   },
   "outputs": [],
   "source": [
    "#保存训练模型\n",
    "torch.save(model, 'cifar_alexnet.pt')\n",
    "model = torch.load('cifar_alexnet.pt')\n",
    "\n"
   ]
  },
  {
   "cell_type": "code",
   "execution_count": 51,
   "metadata": {
    "ExecuteTime": {
     "end_time": "2020-10-18T07:44:59.083585Z",
     "start_time": "2020-10-18T07:44:59.040889Z"
    }
   },
   "outputs": [],
   "source": [
    "#保存训练模型\n",
    "torch.save(model, 'cifar_alexnet_SGD.pt')\n",
    "model = torch.load('cifar_alexnet_SGD.pt')"
   ]
  },
  {
   "cell_type": "code",
   "execution_count": 56,
   "metadata": {
    "ExecuteTime": {
     "end_time": "2020-10-18T07:45:37.067582Z",
     "start_time": "2020-10-18T07:45:34.560457Z"
    }
   },
   "outputs": [
    {
     "name": "stdout",
     "output_type": "stream",
     "text": [
      "10000测试图像 准确率:59.7100%\n"
     ]
    }
   ],
   "source": [
    "# 测试\n",
    "model.eval()\n",
    "correct = 0\n",
    "total = 0\n",
    "\n",
    "for data in test_loader:\n",
    "    images, labels = data\n",
    "    images, labels = images.to(device), labels.to(device)\n",
    "    # 前向传播\n",
    "    out = model(images)\n",
    "    _, predicted = torch.max(out.data, 1)\n",
    "    total += labels.size(0)\n",
    "    correct += (predicted == labels).sum().item()\n",
    "\n",
    "#输出识别准确率\n",
    "print('10000测试图像 准确率:{:.4f}%'.format(100 * correct / total)) "
   ]
  }
 ],
 "metadata": {
  "kernelspec": {
   "display_name": "Python 3",
   "language": "python",
   "name": "python3"
  },
  "language_info": {
   "codemirror_mode": {
    "name": "ipython",
    "version": 3
   },
   "file_extension": ".py",
   "mimetype": "text/x-python",
   "name": "python",
   "nbconvert_exporter": "python",
   "pygments_lexer": "ipython3",
   "version": "3.7.6"
  },
  "toc": {
   "base_numbering": 1,
   "nav_menu": {},
   "number_sections": true,
   "sideBar": true,
   "skip_h1_title": false,
   "title_cell": "Table of Contents",
   "title_sidebar": "Contents",
   "toc_cell": false,
   "toc_position": {},
   "toc_section_display": true,
   "toc_window_display": false
  }
 },
 "nbformat": 4,
 "nbformat_minor": 4
}
